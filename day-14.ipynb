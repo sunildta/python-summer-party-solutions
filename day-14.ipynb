{
  "cells": [
    {
      "cell_type": "markdown",
      "metadata": {},
      "source": [
        "# Day 14: Loyalty Program's Impact on Transaction Patterns"
      ]
    },
    {
      "cell_type": "markdown",
      "metadata": {},
      "source": [
        "You are a Business Analyst on the Starbucks Rewards team investigating customer transaction behavior. Your team wants to understand how loyalty program membership influences purchasing patterns. The goal is to compare transaction metrics between loyalty members and non-members."
      ]
    },
    {
      "cell_type": "code",
      "metadata": {},
      "execution_count": null,
      "outputs": [],
      "source": "import pandas as pd\nimport numpy as np\n\ndim_customers_data = [\n  {\n    \"customer_id\": 1,\n    \"is_loyalty_member\": 1\n  },\n  {\n    \"customer_id\": 2,\n    \"is_loyalty_member\": 0\n  },\n  {\n    \"customer_id\": 3,\n    \"is_loyalty_member\": 1\n  },\n  {\n    \"customer_id\": 4,\n    \"is_loyalty_member\": 0\n  },\n  {\n    \"customer_id\": 5,\n    \"is_loyalty_member\": 1\n  },\n  {\n    \"customer_id\": 6,\n    \"is_loyalty_member\": 1\n  },\n  {\n    \"customer_id\": 7,\n    \"is_loyalty_member\": 0\n  },\n  {\n    \"customer_id\": 8,\n    \"is_loyalty_member\": 1\n  },\n  {\n    \"customer_id\": 9,\n    \"is_loyalty_member\": 0\n  },\n  {\n    \"customer_id\": 10,\n    \"is_loyalty_member\": 0\n  },\n  {\n    \"customer_id\": 11,\n    \"is_loyalty_member\": 1\n  },\n  {\n    \"customer_id\": 12,\n    \"is_loyalty_member\": 0\n  }\n]\ndim_customers = pd.DataFrame(dim_customers_data)\n\nfct_transactions_data = [\n  {\n    \"customer_id\": 1,\n    \"transaction_id\": 101,\n    \"transaction_date\": \"2024-07-05\",\n    \"transaction_value\": 5.5\n  },\n  {\n    \"customer_id\": 1,\n    \"transaction_id\": 102,\n    \"transaction_date\": \"2024-07-15\",\n    \"transaction_value\": 7.25\n  },\n  {\n    \"customer_id\": 2,\n    \"transaction_id\": 103,\n    \"transaction_date\": \"2024-07-10\",\n    \"transaction_value\": 4\n  },\n  {\n    \"customer_id\": 3,\n    \"transaction_id\": 104,\n    \"transaction_date\": \"2024-07-20\",\n    \"transaction_value\": 8.75\n  },\n  {\n    \"customer_id\": 4,\n    \"transaction_id\": 105,\n    \"transaction_date\": \"2024-07-03\",\n    \"transaction_value\": 6.5\n  },\n  {\n    \"customer_id\": 5,\n    \"transaction_id\": 106,\n    \"transaction_date\": \"2024-07-22\",\n    \"transaction_value\": 9\n  },\n  {\n    \"customer_id\": 6,\n    \"transaction_id\": 107,\n    \"transaction_date\": \"2024-07-11\",\n    \"transaction_value\": 10.5\n  },\n  {\n    \"customer_id\": 7,\n    \"transaction_id\": 108,\n    \"transaction_date\": \"2024-07-18\",\n    \"transaction_value\": 4.25\n  },\n  {\n    \"customer_id\": 8,\n    \"transaction_id\": 109,\n    \"transaction_date\": \"2024-07-25\",\n    \"transaction_value\": 12\n  },\n  {\n    \"customer_id\": 9,\n    \"transaction_id\": 110,\n    \"transaction_date\": \"2024-07-07\",\n    \"transaction_value\": 3.75\n  },\n  {\n    \"customer_id\": 10,\n    \"transaction_id\": 111,\n    \"transaction_date\": \"2024-07-12\",\n    \"transaction_value\": 5\n  },\n  {\n    \"customer_id\": 11,\n    \"transaction_id\": 112,\n    \"transaction_date\": \"2024-07-27\",\n    \"transaction_value\": 11.25\n  },\n  {\n    \"customer_id\": 12,\n    \"transaction_id\": 113,\n    \"transaction_date\": \"2024-07-08\",\n    \"transaction_value\": 6\n  },\n  {\n    \"customer_id\": 3,\n    \"transaction_id\": 114,\n    \"transaction_date\": \"2024-07-30\",\n    \"transaction_value\": 7.5\n  },\n  {\n    \"customer_id\": 5,\n    \"transaction_id\": 115,\n    \"transaction_date\": \"2024-07-29\",\n    \"transaction_value\": 10\n  },\n  {\n    \"customer_id\": 1,\n    \"transaction_id\": 116,\n    \"transaction_date\": \"2024-07-31\",\n    \"transaction_value\": 6.25\n  }\n]\nfct_transactions = pd.DataFrame(fct_transactions_data)\n"
    },
    {
      "cell_type": "markdown",
      "metadata": {},
      "source": [
        "## Question 1\n\nFor the month of July 2024, how many transactions did loyalty program members and non-members make? Compare the transaction counts between these two groups."
      ]
    },
    {
      "cell_type": "code",
      "metadata": {},
      "execution_count": null,
      "outputs": [],
      "source": "# Ensure datetime conversion\nfct_transactions['transaction_date'] = pd.to_datetime(fct_transactions['transaction_date'])\n\n# Merge transactions with customer loyalty info\nmerged = fct_transactions.merge(dim_customers, on='customer_id', how='inner')\n\n# Filter July 2024\njuly_txn = merged[\n    (merged['transaction_date'] >= '2024-07-01') &\n    (merged['transaction_date'] < '2024-08-01')\n]\n\njuly_txn['membership_status'] = july_txn['is_loyalty_member'].map({\n    True: 'Loyalty Member',\n    False: 'Non-Member'\n})\n# Count transactions by loyalty membership\ntxn_counts = july_txn.groupby('membership_status').agg(\n    transaction_count=('transaction_id','count')\n).reset_index()\n\nprint(txn_counts)\n\n\n\"\"\"\n#SQL LOGIC\nSELECT\n    CASE \n        WHEN c.is_loyalty_member = TRUE THEN 'Loyalty Member'\n        ELSE 'Non-Member'\n    END AS member_status,\n    COUNT(t.transaction_id) AS transaction_count\nFROM\n    fct_transactions AS t\nJOIN\n    dim_customers AS c ON t.customer_id = c.customer_id\nWHERE\n    t.transaction_date >= '2024-07-01' AND t.transaction_date < '2024-08-01'\nGROUP BY\n    c.is_loyalty_member\nORDER BY\n    transaction_count DESC;\n\"\"\""
    },
    {
      "cell_type": "markdown",
      "metadata": {},
      "source": [
        "## Question 2\n\nWhat is the average transaction value for loyalty program members and non-members during July 2024? Use this to identify which group has a higher average transaction value."
      ]
    },
    {
      "cell_type": "code",
      "metadata": {},
      "execution_count": null,
      "outputs": [],
      "source": "# Ensure datetime conversion\nfct_transactions['transaction_date'] = pd.to_datetime(fct_transactions['transaction_date'])\n\n# Merge transactions with customer loyalty info\nmerged = fct_transactions.merge(dim_customers, on='customer_id', how='inner')\n\n# Filter July 2024\njuly_txn = merged[\n    (merged['transaction_date'] >= '2024-07-01') &\n    (merged['transaction_date'] < '2024-08-01')\n]\n\njuly_txn['membership_status'] = july_txn['is_loyalty_member'].map({\n    True: 'Loyalty Member',\n    False: 'Non-Member'\n})\n# Count transactions by loyalty membership\navg_txn = july_txn.groupby('membership_status').agg(\n    avg_transaction=('transaction_value','mean')\n).reset_index()\n\nprint(avg_txn)\n\n\"\"\"\nSELECT \n    CASE \n        WHEN c.is_loyalty_member = TRUE THEN 'Loyality Member'\n        ELSE 'Non Member' END AS member_status\n    AVG(t.transaction_value) AS avg_txn\nFROM fct_transactions t\nINNER JOIN \n    dim_customers c ON t.customer_id = c.customer_id\nWHERE \n     t.transaction_date >= '2024-07-01' AND t.transaction_date < '2024-08-01'\nGROUP BY\n    c.is_loyalty_member\nORDER BY avg_txn desc\n\"\"\""
    },
    {
      "cell_type": "markdown",
      "metadata": {},
      "source": [
        "## Question 3\n\nDetermine the percentage difference in average transaction value between loyalty program members and non-members for July 2024."
      ]
    },
    {
      "cell_type": "code",
      "metadata": {},
      "execution_count": null,
      "outputs": [],
      "source": "# Ensure datetime conversion\nfct_transactions['transaction_date'] = pd.to_datetime(fct_transactions['transaction_date'])\n\n# Merge transactions with customer loyalty info\nmerged = fct_transactions.merge(dim_customers, on='customer_id', how='inner')\n\n# Filter July 2024\njuly_txn = merged[\n    (merged['transaction_date'] >= '2024-07-01') &\n    (merged['transaction_date'] < '2024-08-01')\n]\n\n# Map membership status\njuly_txn['membership_status'] = july_txn['is_loyalty_member'].map({\n    True: 'Loyalty Member',\n    False: 'Non-Member'\n})\n\n# Compute average transaction value\navg_values = (\n    july_txn.groupby('membership_status')\n    .agg(avg_transaction_value=('transaction_value', 'mean'))\n    .reset_index()\n)\n\n# Pivot to get values directly\navg_loyalty = avg_values.loc[avg_values['membership_status'] == 'Loyalty Member', 'avg_transaction_value'].values[0]\navg_non_loyalty = avg_values.loc[avg_values['membership_status'] == 'Non-Member', 'avg_transaction_value'].values[0]\n\n# Percentage difference (loyalty vs non-loyalty)\npct_diff = ((avg_loyalty - avg_non_loyalty) / avg_non_loyalty) * 100\n\nprint(avg_values)\nprint(f\"Percentage difference in avg transaction value (Loyalty vs Non-Member): {pct_diff:.2f}%\")\n\n\n\n\n\"\"\"\n#SQL LOGIC\nWITH MonthlyAverages AS (\n    SELECT\n        c.is_loyalty_member,\n        AVG(t.transaction_value) AS avg_value\n    FROM\n        fct_transactions AS t\n    JOIN\n        dim_customers AS c ON t.customer_id = c.customer_id\n    WHERE\n        t.transaction_date >= '2024-07-01' AND t.transaction_date < '2024-08-01'\n    GROUP BY\n        c.is_loyalty_member\n),\nPivotedAverages AS (\n    SELECT\n        MAX(CASE WHEN is_loyalty_member = TRUE THEN avg_value END) AS loyalty_avg,\n        MAX(CASE WHEN is_loyalty_member = FALSE THEN avg_value END) AS non_member_avg\n    FROM\n        MonthlyAverages\n)\nSELECT\n    ((loyalty_avg - non_member_avg) / non_member_avg) * 100.0 AS percentage_difference\nFROM\n    PivotedAverages;\n\"\"\""
    },
    {
      "cell_type": "markdown",
      "metadata": {},
      "source": [
        "Made with ❤️ by [Interview Master](https://www.interviewmaster.ai)"
      ]
    }
  ],
  "metadata": {
    "kernelspec": {
      "name": "python3",
      "language": "python",
      "display_name": "Python 3"
    },
    "language_info": {
      "name": "python",
      "version": "3",
      "mimetype": "text/x-python",
      "file_extension": ".py"
    }
  },
  "nbformat": 4,
  "nbformat_minor": 5
}