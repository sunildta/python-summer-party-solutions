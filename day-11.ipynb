{
  "cells": [
    {
      "cell_type": "markdown",
      "metadata": {},
      "source": [
        "# Day 11: Payment Fraud Risk Detection in Online Transactions"
      ]
    },
    {
      "cell_type": "markdown",
      "metadata": {},
      "source": [
        "You are a data analyst in Stripe's risk management team investigating transaction patterns to identify potential fraud. The team needs to develop a systematic approach to screen transactions for financial risks. Your goal is to create an initial risk assessment methodology using transaction characteristics."
      ]
    },
    {
      "cell_type": "code",
      "metadata": {},
      "execution_count": null,
      "outputs": [],
      "source": "import pandas as pd\nimport numpy as np\n\ndim_risk_flags_data = [\n  {\n    \"risk_level\": \"Low\",\n    \"risk_flag_id\": 1,\n    \"transaction_id\": 2\n  },\n  {\n    \"risk_level\": \"Medium\",\n    \"risk_flag_id\": 2,\n    \"transaction_id\": 7\n  },\n  {\n    \"risk_level\": \"High\",\n    \"risk_flag_id\": 3,\n    \"transaction_id\": 11\n  },\n  {\n    \"risk_level\": \"High\",\n    \"risk_flag_id\": 4,\n    \"transaction_id\": 12\n  },\n  {\n    \"risk_level\": \"High\",\n    \"risk_flag_id\": 5,\n    \"transaction_id\": 13\n  },\n  {\n    \"risk_level\": \"Medium\",\n    \"risk_flag_id\": 6,\n    \"transaction_id\": 14\n  },\n  {\n    \"risk_level\": \"High\",\n    \"risk_flag_id\": 7,\n    \"transaction_id\": 15\n  },\n  {\n    \"risk_level\": \"Low\",\n    \"risk_flag_id\": 8,\n    \"transaction_id\": 1\n  },\n  {\n    \"risk_level\": \"Medium\",\n    \"risk_flag_id\": 9,\n    \"transaction_id\": 6\n  },\n  {\n    \"risk_level\": \"Low\",\n    \"risk_flag_id\": 10,\n    \"transaction_id\": 3\n  }\n]\ndim_risk_flags = pd.DataFrame(dim_risk_flags_data)\n\nfct_transactions_data = [\n  {\n    \"customer_email\": \"alice@gmail.com\",\n    \"transaction_id\": 1,\n    \"transaction_date\": \"2024-10-05\",\n    \"transaction_amount\": 120,\n    \"fraud_detection_score\": 10\n  },\n  {\n    \"customer_email\": \"bob@customdomain.com\",\n    \"transaction_id\": 2,\n    \"transaction_date\": \"2024-10-15\",\n    \"transaction_amount\": 250.5,\n    \"fraud_detection_score\": 20\n  },\n  {\n    \"customer_email\": \"charlie@yahoo.com\",\n    \"transaction_id\": 3,\n    \"transaction_date\": \"2024-10-20\",\n    \"transaction_amount\": 75.25,\n    \"fraud_detection_score\": 15\n  },\n  {\n    \"customer_email\": \"dana@hotmail.com\",\n    \"transaction_id\": 4,\n    \"transaction_date\": \"2024-10-25\",\n    \"transaction_amount\": 100,\n    \"fraud_detection_score\": 30\n  },\n  {\n    \"customer_email\": \"eve@biz.org\",\n    \"transaction_id\": 5,\n    \"transaction_date\": \"2024-10-30\",\n    \"transaction_amount\": 300,\n    \"fraud_detection_score\": 40\n  },\n  {\n    \"customer_email\": \"frank@gmail.com\",\n    \"transaction_id\": 6,\n    \"transaction_date\": \"2024-11-03\",\n    \"transaction_amount\": 150.75,\n    \"fraud_detection_score\": 25\n  },\n  {\n    \"customer_email\": \"grace@outlook.com\",\n    \"transaction_id\": 7,\n    \"transaction_date\": \"2024-11-10\",\n    \"transaction_amount\": null,\n    \"fraud_detection_score\": 50\n  },\n  {\n    \"customer_email\": \"ivan@yahoo.com\",\n    \"transaction_id\": 8,\n    \"transaction_date\": \"2024-11-15\",\n    \"transaction_amount\": 200,\n    \"fraud_detection_score\": 35\n  },\n  {\n    \"customer_email\": \"judy@hotmail.com\",\n    \"transaction_id\": 9,\n    \"transaction_date\": \"2024-11-21\",\n    \"transaction_amount\": 250,\n    \"fraud_detection_score\": 45\n  },\n  {\n    \"customer_email\": \"ken@domain.net\",\n    \"transaction_id\": 10,\n    \"transaction_date\": \"2024-11-29\",\n    \"transaction_amount\": 300,\n    \"fraud_detection_score\": 55\n  },\n  {\n    \"customer_email\": \"laura@riskmail.com\",\n    \"transaction_id\": 11,\n    \"transaction_date\": \"2024-12-02\",\n    \"transaction_amount\": 100,\n    \"fraud_detection_score\": 80\n  },\n  {\n    \"customer_email\": \"mike@securepay.com\",\n    \"transaction_id\": 12,\n    \"transaction_date\": \"2024-12-03\",\n    \"transaction_amount\": 180,\n    \"fraud_detection_score\": 85\n  },\n  {\n    \"customer_email\": \"nina@trusthub.com\",\n    \"transaction_id\": 13,\n    \"transaction_date\": \"2024-12-09\",\n    \"transaction_amount\": 220,\n    \"fraud_detection_score\": 90\n  },\n  {\n    \"customer_email\": \"oscar@fintech.com\",\n    \"transaction_id\": 14,\n    \"transaction_date\": \"2024-12-16\",\n    \"transaction_amount\": 140,\n    \"fraud_detection_score\": 70\n  },\n  {\n    \"customer_email\": \"paula@alertsys.com\",\n    \"transaction_id\": 15,\n    \"transaction_date\": \"2024-12-23\",\n    \"transaction_amount\": 260,\n    \"fraud_detection_score\": 95\n  }\n]\nfct_transactions = pd.DataFrame(fct_transactions_data)\n"
    },
    {
      "cell_type": "markdown",
      "metadata": {},
      "source": [
        "## Question 1\n\nHow many transactions in October 2024 have a customer email ending with a domain other than 'gmail.com', 'yahoo.com', or 'hotmail.com'? This metric will help us identify transactions associated with less common email providers that may indicate emerging risk patterns."
      ]
    },
    {
      "cell_type": "code",
      "metadata": {},
      "execution_count": null,
      "outputs": [],
      "source": "#datetime conversion\nfct_transactions['transaction_date'] = pd.to_datetime(fct_transactions['transaction_date'])\n\n#filtering the october 2024\noctober_transaction = fct_transactions[(fct_transactions['transaction_date']>='2024-10-01') &\n  (fct_transactions['transaction_date']<'2024-11-01')]\n\n#condition to exclude the domain\nexclude = ((~october_transaction['customer_email'].str.endswith('gmail.com'))&\n          (~october_transaction['customer_email'].str.endswith('yahoo.com'))&\n          (~october_transaction['customer_email'].str.endswith('hotmail.com'))\n)\n\n#merge condition\nunique_transc = october_transaction[exclude]\n\nprint(len(unique_transc))\n\n\n       \n        \n\n\n\n\n\n\n\n\n\n\n\n\"\"\"\n#SQL lOGIC\nSELECT \n  count(transaction_id) as unique_domain_trans\nFROM fct_transactions\nWHERE transaction_date>='2024-10-01' AND transaction_date<'2024-11-01'\nAND customer_email NOT LIKE '%gmail.com' AND customer_email NOT LIKE '%yahoo.com'\nAND customer_email NOT LIKE '%hotmail.com'\n\"\"\""
    },
    {
      "cell_type": "markdown",
      "metadata": {},
      "source": [
        "## Question 2\n\nFor transactions occurring in November 2024, what is the average transaction amount, using 0 as a default for any missing values? This calculation will help us detect abnormal transaction amounts that could be related to fraudulent activity."
      ]
    },
    {
      "cell_type": "code",
      "metadata": {},
      "execution_count": null,
      "outputs": [],
      "source": "#datetime conversion\nfct_transactions['transaction_date'] = pd.to_datetime(fct_transactions['transaction_date'])\n\n#filling missing value\nfct_transactions['transaction_amount'] = fct_transactions['transaction_amount'].fillna(0)\n\n#filtering the october 2024\nnovember_transaction = fct_transactions[(fct_transactions['transaction_date']>='2024-11-01') &\n  (fct_transactions['transaction_date']<'2024-12-01')]\n\navg_transaction = november_transaction['transaction_amount'].mean()\n\nprint(avg_transaction)\n\n\n\"\"\"\n#SQL LOGIC\nSELECT\n    AVG(COALESCE(transaction_amount, 0)) AS avg_transaction_amount\nFROM\n    fct_transactions\nWHERE\n    transaction_date >= '2024-11-01' AND transaction_date < '2024-12-01';\n\"\"\""
    },
    {
      "cell_type": "markdown",
      "metadata": {},
      "source": [
        "## Question 3\n\nAmong transactions flagged as 'High' risk in December 2024, which day of the week recorded the highest number of such transactions? This analysis is intended to pinpoint specific days with concentrated high-risk activity and support the development of our preliminary fraud detection score."
      ]
    },
    {
      "cell_type": "code",
      "metadata": {},
      "execution_count": null,
      "outputs": [],
      "source": "#datetime conversion\nfct_transactions['transaction_date'] = pd.to_datetime(fct_transactions['transaction_date'])\n\n#merge both tables on transaction_id\nmerge = fct_transactions.merge(dim_risk_flags,on='transaction_id',how='inner')\n\n#date december 2024 and risk_level = 'high'\ndec_high_risk = merge[(merge['transaction_date']>='2024-12-01') & \n  (merge['transaction_date']<'2025-01-01') & (merge['risk_level']== 'High')]\n\ndec_high_risk['day_of_week'] = dec_high_risk['transaction_date'].dt.day_name()\n\nhigh_risk_days = dec_high_risk.groupby('day_of_week').agg(risk_count=('transaction_id','count')).reset_index().sort_values(by='risk_count',ascending=False)\n\nprint(high_risk_days)\nprint(f\"highest risk week {high_risk_days.head(1)}\")\n\n\n\n\n\n\n\"\"\"\n#SQL LOGIC\nSELECT \n  TO_CHAR(t.transaction_date,'DAY') AS day_of_week,\n  COUNT(d.risk_level) AS risk_count\nFROM fct_transactions t\nINNER JOIN dim_risk_flags d\nON t.transaction_id = d.transaction_id\nWHERE transaction_date>='2024-12-01' AND transaction_date<'2025-01-01'\nAND risk_level = 'High'\nGROUP BY  TO_CHAR(t.transaction_date,'DAY')\nORDER BY risk_count DESC \nLIMIT 1\n\"\"\""
    },
    {
      "cell_type": "markdown",
      "metadata": {},
      "source": [
        "Made with ❤️ by [Interview Master](https://www.interviewmaster.ai)"
      ]
    }
  ],
  "metadata": {
    "kernelspec": {
      "name": "python3",
      "language": "python",
      "display_name": "Python 3"
    },
    "language_info": {
      "name": "python",
      "version": "3",
      "mimetype": "text/x-python",
      "file_extension": ".py"
    }
  },
  "nbformat": 4,
  "nbformat_minor": 5
}